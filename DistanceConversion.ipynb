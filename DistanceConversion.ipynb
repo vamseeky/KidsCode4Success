{
  "nbformat": 4,
  "nbformat_minor": 0,
  "metadata": {
    "colab": {
      "name": "DistanceConversion.ipynb",
      "provenance": [],
      "authorship_tag": "ABX9TyNagl2mWzW5q3Uc2mZR3wRf",
      "include_colab_link": true
    },
    "kernelspec": {
      "name": "python3",
      "display_name": "Python 3"
    }
  },
  "cells": [
    {
      "cell_type": "markdown",
      "metadata": {
        "id": "view-in-github",
        "colab_type": "text"
      },
      "source": [
        "<a href=\"https://colab.research.google.com/github/vamseeky/KidsCode4Success/blob/readme-edits/DistanceConversion.ipynb\" target=\"_parent\"><img src=\"https://colab.research.google.com/assets/colab-badge.svg\" alt=\"Open In Colab\"/></a>"
      ]
    },
    {
      "cell_type": "code",
      "metadata": {
        "id": "b1qnfTNdPAw9",
        "colab_type": "code",
        "colab": {
          "base_uri": "https://localhost:8080/",
          "height": 87
        },
        "outputId": "e789e692-0c7b-4bcf-c84b-9f06ca9a536e"
      },
      "source": [
        "km_distance = float(input('Enter distance in Kilometers: \\n'))\n",
        "miles_distance = km_distance / 1.60934\n",
        "print('Distance in miles is: \\n',round(miles_distance,2))  "
      ],
      "execution_count": 2,
      "outputs": [
        {
          "output_type": "stream",
          "text": [
            "Enter distance in Kilometers: \n",
            "37\n",
            "Distance in miles is: \n",
            " 22.99\n"
          ],
          "name": "stdout"
        }
      ]
    },
    {
      "cell_type": "code",
      "metadata": {
        "id": "NDrV342BP13t",
        "colab_type": "code",
        "colab": {
          "base_uri": "https://localhost:8080/",
          "height": 87
        },
        "outputId": "e7ffa58d-1cc0-43ca-df73-7f4c38d55e20"
      },
      "source": [
        "miles_distance = float(input('Enter distance in Miles: \\n'))\n",
        "km_distance = miles_distance * 1.60934\n",
        "print('Distance in Kilometers is: \\n',round(km_distance,2))  "
      ],
      "execution_count": 3,
      "outputs": [
        {
          "output_type": "stream",
          "text": [
            "Enter distance in Miles: \n",
            "23\n",
            "Distance in Kilometers is: \n",
            " 37.01\n"
          ],
          "name": "stdout"
        }
      ]
    }
  ]
}