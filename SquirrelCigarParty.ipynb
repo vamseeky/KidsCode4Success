{
  "nbformat": 4,
  "nbformat_minor": 0,
  "metadata": {
    "colab": {
      "name": "SquirrelCigarParty.ipynb",
      "provenance": [],
      "authorship_tag": "ABX9TyN/GFEi+gYuIDEnAd8+rc6T",
      "include_colab_link": true
    },
    "kernelspec": {
      "name": "python3",
      "display_name": "Python 3"
    }
  },
  "cells": [
    {
      "cell_type": "markdown",
      "metadata": {
        "id": "view-in-github",
        "colab_type": "text"
      },
      "source": [
        "<a href=\"https://colab.research.google.com/github/vamseeky/KidsCode4Success/blob/master/SquirrelCigarParty.ipynb\" target=\"_parent\"><img src=\"https://colab.research.google.com/assets/colab-badge.svg\" alt=\"Open In Colab\"/></a>"
      ]
    },
    {
      "cell_type": "markdown",
      "metadata": {
        "id": "9HTidv18OLgV",
        "colab_type": "text"
      },
      "source": [
        "When squirrels get together for a party, they like to have cigars. A squirrel party is successful when the number of cigars is between 40 and 60, inclusive. Unless it is the weekend, in which case there is no upper bound on the number of cigars. Return True if the party with the given values is successful, or False otherwise."
      ]
    },
    {
      "cell_type": "code",
      "metadata": {
        "id": "wjw5p7v9N9J2",
        "colab_type": "code",
        "colab": {}
      },
      "source": [
        "def cigar_party(cigars, is_weekend):\n",
        "  if is_weekend == False:\n",
        "    if cigars >= 40 and cigars <=60:\n",
        "      return True\n",
        "    else:\n",
        "      return False\n",
        "  if is_weekend == True:\n",
        "    if cigars >= 40:\n",
        "      return True\n",
        "    else:\n",
        "      return False"
      ],
      "execution_count": 0,
      "outputs": []
    },
    {
      "cell_type": "code",
      "metadata": {
        "id": "TowRAJkROG26",
        "colab_type": "code",
        "colab": {}
      },
      "source": [
        "def cigar_party(cigars, is_weekend):\n",
        "  if is_weekend:\n",
        "    return (cigars >= 40)\n",
        "  else:\n",
        "    return (cigars >= 40 and cigars <= 60)"
      ],
      "execution_count": 0,
      "outputs": []
    }
  ]
}