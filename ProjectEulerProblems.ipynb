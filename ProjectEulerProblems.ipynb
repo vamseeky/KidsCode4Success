{
  "nbformat": 4,
  "nbformat_minor": 0,
  "metadata": {
    "colab": {
      "name": "ProjectEulerProblems.ipynb",
      "provenance": [],
      "collapsed_sections": [],
      "authorship_tag": "ABX9TyMfXd5dGCbAo4SsIj7OVJf4",
      "include_colab_link": true
    },
    "kernelspec": {
      "name": "python3",
      "display_name": "Python 3"
    }
  },
  "cells": [
    {
      "cell_type": "markdown",
      "metadata": {
        "id": "view-in-github",
        "colab_type": "text"
      },
      "source": [
        "<a href=\"https://colab.research.google.com/github/vamseeky/KidsCode4Success/blob/master/ProjectEulerProblems.ipynb\" target=\"_parent\"><img src=\"https://colab.research.google.com/assets/colab-badge.svg\" alt=\"Open In Colab\"/></a>"
      ]
    },
    {
      "cell_type": "markdown",
      "metadata": {
        "id": "4cNL6jUc7c08",
        "colab_type": "text"
      },
      "source": [
        "Sum of all multiples of 3 and 5 that are less than 1000"
      ]
    },
    {
      "cell_type": "code",
      "metadata": {
        "id": "tbLPYxakZBDu",
        "colab_type": "code",
        "colab": {
          "base_uri": "https://localhost:8080/",
          "height": 34
        },
        "outputId": "be902b4d-449d-48d3-8be0-d3f8a9419b7a"
      },
      "source": [
        "n = 1000\n",
        "y = 0\n",
        "for x in range (1,n):\n",
        "  if x % 3 == 0 or x % 5 == 0:\n",
        "    y = y + x\n",
        "print(y)"
      ],
      "execution_count": 15,
      "outputs": [
        {
          "output_type": "stream",
          "text": [
            "233168\n"
          ],
          "name": "stdout"
        }
      ]
    },
    {
      "cell_type": "markdown",
      "metadata": {
        "id": "Sh5ZEUAJ7Wva",
        "colab_type": "text"
      },
      "source": [
        "Fibonacci Series"
      ]
    },
    {
      "cell_type": "code",
      "metadata": {
        "id": "0Iv1XeGlmHhK",
        "colab_type": "code",
        "colab": {
          "base_uri": "https://localhost:8080/",
          "height": 175
        },
        "outputId": "985d2bb7-9e94-44a5-b23e-948288a90ba7"
      },
      "source": [
        "n = 10\n",
        "y_1 = 1\n",
        "y_2 = 2\n",
        "\n",
        "for _ in range (1,n):\n",
        "  y_3 = y_1 + y_2\n",
        "  y_1 = y_2\n",
        "  y_2 = y_3\n",
        "  print(y_3)\n",
        "  \"\"\"\n",
        "  if y_3 % 2 == 0:\n",
        "    cum_sum = cum_sum + y_3\n",
        "    print(y_3)\n",
        "    print(cum_sum)\n",
        "  \"\"\""
      ],
      "execution_count": 30,
      "outputs": [
        {
          "output_type": "stream",
          "text": [
            "3\n",
            "5\n",
            "8\n",
            "13\n",
            "21\n",
            "34\n",
            "55\n",
            "89\n",
            "144\n"
          ],
          "name": "stdout"
        }
      ]
    },
    {
      "cell_type": "markdown",
      "metadata": {
        "id": "R523XSonMZoD",
        "colab_type": "text"
      },
      "source": [
        "Test if a given number is prime or not"
      ]
    },
    {
      "cell_type": "code",
      "metadata": {
        "id": "5RfU61jHL9Xe",
        "colab_type": "code",
        "colab": {
          "base_uri": "https://localhost:8080/",
          "height": 34
        },
        "outputId": "cb43ea1a-a267-4cd2-bb3e-286265e0e15b"
      },
      "source": [
        "x = 1397329\n",
        "\n",
        "for y in range (2, x//2+1):\n",
        "  if x % y ==0:\n",
        "    break\n",
        "else:\n",
        "  print(x,\" is a prime\")"
      ],
      "execution_count": 87,
      "outputs": [
        {
          "output_type": "stream",
          "text": [
            "1397329  is a prime\n"
          ],
          "name": "stdout"
        }
      ]
    },
    {
      "cell_type": "markdown",
      "metadata": {
        "id": "D76MlmgBJjNY",
        "colab_type": "text"
      },
      "source": [
        "Prime Numbers between 2 given numbers"
      ]
    },
    {
      "cell_type": "code",
      "metadata": {
        "id": "LkCoiAXRIiq6",
        "colab_type": "code",
        "colab": {
          "base_uri": "https://localhost:8080/",
          "height": 263
        },
        "outputId": "5c25e3ce-cde9-43b4-fafe-829fc2064d72"
      },
      "source": [
        "for x in range (900,1000):\n",
        "  for y in range (2,x//2+1):\n",
        "    if x % y == 0:\n",
        "      break\n",
        "  else:\n",
        "    print(x)\n"
      ],
      "execution_count": 88,
      "outputs": [
        {
          "output_type": "stream",
          "text": [
            "907\n",
            "911\n",
            "919\n",
            "929\n",
            "937\n",
            "941\n",
            "947\n",
            "953\n",
            "967\n",
            "971\n",
            "977\n",
            "983\n",
            "991\n",
            "997\n"
          ],
          "name": "stdout"
        }
      ]
    },
    {
      "cell_type": "markdown",
      "metadata": {
        "id": "9zfV5QOGLTVI",
        "colab_type": "text"
      },
      "source": [
        "Largest Prime Factor of a given number"
      ]
    },
    {
      "cell_type": "code",
      "metadata": {
        "id": "Rr59TwAxJxbj",
        "colab_type": "code",
        "colab": {
          "base_uri": "https://localhost:8080/",
          "height": 34
        },
        "outputId": "fcf91e42-7e15-492a-b421-820cba124030"
      },
      "source": [
        "x = 13195\n",
        "\n",
        "for i in range (2,x//2+1):\n",
        "  if x % i == 0:\n",
        "   # print(i)\n",
        "    for j in range (2, i//2+1):\n",
        "      if i % j == 0:\n",
        "        break\n",
        "    else:\n",
        "      k=i\n",
        "\n",
        "print(k)"
      ],
      "execution_count": 86,
      "outputs": [
        {
          "output_type": "stream",
          "text": [
            "29\n"
          ],
          "name": "stdout"
        }
      ]
    }
  ]
}