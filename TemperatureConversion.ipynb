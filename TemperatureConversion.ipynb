{
  "nbformat": 4,
  "nbformat_minor": 0,
  "metadata": {
    "colab": {
      "name": "TemperatureConversion.ipynb",
      "provenance": [],
      "authorship_tag": "ABX9TyPkvYvrfgo3nOESJ3njZCPe",
      "include_colab_link": true
    },
    "kernelspec": {
      "name": "python3",
      "display_name": "Python 3"
    }
  },
  "cells": [
    {
      "cell_type": "markdown",
      "metadata": {
        "id": "view-in-github",
        "colab_type": "text"
      },
      "source": [
        "<a href=\"https://colab.research.google.com/github/vamseeky/KidsCode4Success/blob/readme-edits/TemperatureConversion.ipynb\" target=\"_parent\"><img src=\"https://colab.research.google.com/assets/colab-badge.svg\" alt=\"Open In Colab\"/></a>"
      ]
    },
    {
      "cell_type": "code",
      "metadata": {
        "id": "NeiGt59mOHph",
        "colab_type": "code",
        "colab": {
          "base_uri": "https://localhost:8080/",
          "height": 87
        },
        "outputId": "c4c5e2c7-ff5a-4c56-9b04-ed13f450030c"
      },
      "source": [
        "celcius = float(input('Enter Temperature in Celcius: \\n'))\n",
        "temp_fah = 32 + 9*celcius/5\n",
        "print('Converted Fahrenheit Temperature is: \\n',temp_fah)   "
      ],
      "execution_count": 1,
      "outputs": [
        {
          "output_type": "stream",
          "text": [
            "Enter Temperature in Celcius: \n",
            "25\n",
            "Converted Fahrenheit Temperature is: \n",
            " 77.0\n"
          ],
          "name": "stdout"
        }
      ]
    },
    {
      "cell_type": "code",
      "metadata": {
        "id": "KVJS1CVxOQSJ",
        "colab_type": "code",
        "colab": {
          "base_uri": "https://localhost:8080/",
          "height": 87
        },
        "outputId": "84d4c712-f249-4f0a-9307-509553d1e861"
      },
      "source": [
        "temp_fah = float(input('Enter Temperature in Fahrenheit: \\n'))\n",
        "celcius = (5/9)*(temp_fah-32)\n",
        "print('Converted Celcius Temperature is: \\n',celcius)"
      ],
      "execution_count": 2,
      "outputs": [
        {
          "output_type": "stream",
          "text": [
            "Enter Temperature in Fahrenheit: \n",
            "77\n",
            "Converted Celcius Temperature is: \n",
            " 25.0\n"
          ],
          "name": "stdout"
        }
      ]
    }
  ]
}